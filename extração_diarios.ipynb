{
 "cells": [
  {
   "attachments": {},
   "cell_type": "markdown",
   "metadata": {},
   "source": [
    "# Script para extração de diários do DOAL\n",
    "\n",
    "Necessita do Chrome driver na versão do navegador"
   ]
  },
  {
   "cell_type": "code",
   "execution_count": null,
   "metadata": {},
   "outputs": [],
   "source": [
    "from selenium import webdriver\n",
    "import pyautogui\n",
    "import time\n",
    "from getpass import getpass\n",
    "import pandas as pd"
   ]
  },
  {
   "cell_type": "code",
   "execution_count": null,
   "metadata": {},
   "outputs": [],
   "source": [
    "\n",
    "# Inputs necessários para o login na proxy da rede da SEPLAG\n",
    "proxy = input(\"Há pop-up de proxy ao abrir o Chrome? Sim - Digite: 1 | Não - Digite: 2\") \n",
    "if proxy == str(1):\n",
    "    usuario = input(str(\"Digite seu usuário: \"))\n",
    "    senha = getpass()\n",
    "    driver = webdriver.Chrome()\n",
    "    driver.get(\"http://www.vidafuncional.al.gov.br/gdprev/vida_funcional/busca/index\")\n",
    "    time.sleep(2.5)\n",
    "    pyautogui.typewrite(usuario)\n",
    "    pyautogui.hotkey(\"tab\")\n",
    "    pyautogui.typewrite(senha)\n",
    "    pyautogui.hotkey(\"enter\")\n",
    "else: \n",
    "    driver = webdriver.Chrome()\n",
    "    driver.get(\"http://www.vidafuncional.al.gov.br/gdprev/vida_funcional/busca/index\")"
   ]
  },
  {
   "attachments": {},
   "cell_type": "markdown",
   "metadata": {},
   "source": [
    "# Abrir o site do DOAL e logar"
   ]
  },
  {
   "cell_type": "code",
   "execution_count": null,
   "metadata": {},
   "outputs": [],
   "source": [
    "time.sleep(2)\n",
    "driver.find_element(\"xpath\", '//*[@id=\"UsuarioUsuario/usuario\"]').send_keys(\"pesquisador\")\n",
    "driver.find_element(\"xpath\", '//*[@id=\"UsuarioUsuario/senha\"]').send_keys(\"pesquisador\")\n",
    "pyautogui.hotkey(\"enter\")\n",
    "time.sleep(2)"
   ]
  },
  {
   "attachments": {},
   "cell_type": "markdown",
   "metadata": {},
   "source": [
    "# Buscar os diários de acordo com uma planilha"
   ]
  },
  {
   "cell_type": "code",
   "execution_count": null,
   "metadata": {},
   "outputs": [],
   "source": [
    "# Entrar na busca avançada\n",
    "\n",
    "# Clicar em \"vida funcional\"\n",
    "driver.find_element(\"xpath\", '//*[@id=\"main-nav\"]/li[2]/a').click()\n",
    "\n",
    "# Clicar em \"Busca avançada\"\n",
    "driver.find_element(\"xpath\", '//*[@id=\"main-nav\"]/li[2]/ul/li[1]/a').click()\n",
    "time.sleep(1.5)"
   ]
  },
  {
   "attachments": {},
   "cell_type": "markdown",
   "metadata": {},
   "source": [
    "### Referências XPATH"
   ]
  },
  {
   "cell_type": "code",
   "execution_count": null,
   "metadata": {},
   "outputs": [],
   "source": [
    "# Referência \"Buscar por:\"\n",
    "palavrachave = driver.find_element(\"xpath\", '//*[@id=\"searchTerm\"]')\n",
    "# Referência \"Data inicial\"\n",
    "dataini = driver.find_element(\"xpath\", '//*[@id=\"searchDateStart\"]')\n",
    "# Referência \"Data final\"\n",
    "datafin = driver.find_element(\"xpath\", '//*[@id=\"searchDateEnd\"]')\n",
    "# Referência botão \"buscar\"\n",
    "buscar = driver.find_element(\"xpath\", '//*[@id=\"FormSimples\"]/div[8]/input')\n",
    "# Referência seleção de exatidez\"buscar por\"\n",
    "#buscarporcaixa = driver.find_element(\"xpath\", '//*[@id=\"select2-searchLike-container\"]')\n",
    "buscarporcaixa = driver.find_element(\"xpath\", '//*[@id=\"FormSimples\"]/div[7]/span/span[1]')"
   ]
  },
  {
   "attachments": {},
   "cell_type": "markdown",
   "metadata": {},
   "source": [
    "### Buscar de acordo com a base"
   ]
  },
  {
   "cell_type": "code",
   "execution_count": null,
   "metadata": {},
   "outputs": [],
   "source": [
    "palavrachave.send_keys(\"ABRE À ASSEMBLÉIA LEGISLATIVA ESTADUAL, O CRÉDITO SUPLEMENTAR NO VALOR DE R$ 35.000.000,00\")\n",
    "time.sleep(1)\n",
    "dataini.send_keys(\"15/09/2022\")\n",
    "time.sleep(1)\n",
    "datafin.send_keys(\"15/09/2022\")\n",
    "time.sleep(1)\n",
    "palavrachave.click()\n",
    "time.sleep(1)\n",
    "buscarporcaixa.click()\n",
    "time.sleep(1)\n",
    "# Referência do input da busca\n",
    "inputdabusca = driver.find_element(\"xpath\", '/html/body/span/span/span[1]/input')\n",
    "inputdabusca.send_keys(\"Frase Exata\")\n",
    "time.sleep(1)\n",
    "pyautogui.hotkey(\"enter\")\n",
    "time.sleep(1)\n",
    "buscar.click()"
   ]
  },
  {
   "attachments": {},
   "cell_type": "markdown",
   "metadata": {},
   "source": [
    "### Clicar no diário e baixa-lo"
   ]
  },
  {
   "cell_type": "code",
   "execution_count": null,
   "metadata": {},
   "outputs": [],
   "source": [
    "result = driver.find_element(\"xpath\", '//*[@id=\"vfSearch\"]/div/div[4]/div[3]')\n",
    "time.sleep(1)\n",
    "result.click()\n",
    "driver.find_element(\"xpath\", '//*[@id=\"tab3\"]'[2])\n"
   ]
  }
 ],
 "metadata": {
  "kernelspec": {
   "display_name": "base",
   "language": "python",
   "name": "python3"
  },
  "language_info": {
   "codemirror_mode": {
    "name": "ipython",
    "version": 3
   },
   "file_extension": ".py",
   "mimetype": "text/x-python",
   "name": "python",
   "nbconvert_exporter": "python",
   "pygments_lexer": "ipython3",
   "version": "3.9.13"
  },
  "orig_nbformat": 4,
  "vscode": {
   "interpreter": {
    "hash": "73a48dfa232abf2d5e29fd3810e1a8e15c9f796ed20be0e2c4a592ce9c8426a2"
   }
  }
 },
 "nbformat": 4,
 "nbformat_minor": 2
}
