{
 "cells": [
  {
   "attachments": {},
   "cell_type": "markdown",
   "metadata": {},
   "source": [
    "# Script para extração de diários do DOAL\n",
    "\n",
    "Necessita do Chrome driver na versão do navegador"
   ]
  },
  {
   "cell_type": "code",
   "execution_count": null,
   "metadata": {},
   "outputs": [],
   "source": [
    "from selenium import webdriver\n",
    "from selenium.webdriver.chrome.options import Options\n",
    "from selenium.webdriver.common.by import By\n",
    "import pyautogui\n",
    "import time\n",
    "from getpass import getpass\n",
    "import pandas as pd"
   ]
  },
  {
   "cell_type": "code",
   "execution_count": null,
   "metadata": {},
   "outputs": [],
   "source": [
    "# Inputs necessários para o login na proxy da rede da SEPLAG\n",
    "proxy = input(\"Há pop-up de proxy ao abrir o Chrome? Sim - Digite: 1 | Não - Digite: 2\") \n",
    "if proxy == str(1):\n",
    "    usuario = input(str(\"Digite seu usuário: \"))\n",
    "    senha = getpass()\n",
    "    options = Options()\n",
    "    PATH = \"C:\\\\Users\\\\vinicius.ventura\\\\Documents\\\\PRESTAÇÃO DE CONTAS - SCRIPT\"\n",
    "    prefs = {\"download.default_directory\" : PATH}\n",
    "    options.add_experimental_option(\"prefs\",prefs)\n",
    "    driver = webdriver.Chrome(options=options)\n",
    "    driver.get(\"http://www.doeal.com.br/busca\")\n",
    "    time.sleep(2.5)\n",
    "    pyautogui.typewrite(usuario)\n",
    "    pyautogui.hotkey(\"tab\")\n",
    "    pyautogui.typewrite(senha)\n",
    "    pyautogui.hotkey(\"enter\")\n",
    "else: \n",
    "    driver = webdriver.Chrome()\n",
    "    driver.get(\"http://www.doeal.com.br/busca\")"
   ]
  },
  {
   "attachments": {},
   "cell_type": "markdown",
   "metadata": {},
   "source": [
    "# Buscar os diários de acordo com uma planilha"
   ]
  },
  {
   "attachments": {},
   "cell_type": "markdown",
   "metadata": {},
   "source": [
    "### Referências XPATH"
   ]
  },
  {
   "cell_type": "code",
   "execution_count": null,
   "metadata": {},
   "outputs": [],
   "source": [
    "# Referência \"Buscar por:\"\n",
    "palavrachave = driver.find_element(\"xpath\", '//*[@id=\"qTerm\"]')\n",
    "# Referência \"Data inicial\"\n",
    "dataini = driver.find_element(\"xpath\", '//*[@id=\"dataInicial\"]')\n",
    "# Referência \"Data final\"\n",
    "datafin = driver.find_element(\"xpath\", '//*[@id=\"dataFinal\"]')\n",
    "# Referência botão \"buscar\"\n",
    "buscar = driver.find_element(\"xpath\", '//*[@id=\"header-block\"]/div[2]/form/button')\n",
    "# Referência frase exata\n",
    "fraseexata = driver.find_element(\"xpath\", '//*[@id=\"header-block\"]/div[2]/form/label[1]')"
   ]
  },
  {
   "attachments": {},
   "cell_type": "markdown",
   "metadata": {},
   "source": [
    "### Buscar de acordo com a base"
   ]
  },
  {
   "cell_type": "code",
   "execution_count": null,
   "metadata": {},
   "outputs": [],
   "source": [
    "palavrachave.send_keys(\"DECRETO Nº 85.330, DE 20 DE outubro DE 2022\")\n",
    "time.sleep(1)\n",
    "fraseexata.click()\n",
    "time.sleep(1)\n",
    "buscar.click()\n",
    "driver.find_element(\"xpath\", '/html/body/div/div[2]/div[2]/ul/li[1]/a[1]/img').click()"
   ]
  },
  {
   "attachments": {},
   "cell_type": "markdown",
   "metadata": {},
   "source": [
    "### Clicar no diário e baixa-lo"
   ]
  }
 ],
 "metadata": {
  "kernelspec": {
   "display_name": "base",
   "language": "python",
   "name": "python3"
  },
  "language_info": {
   "codemirror_mode": {
    "name": "ipython",
    "version": 3
   },
   "file_extension": ".py",
   "mimetype": "text/x-python",
   "name": "python",
   "nbconvert_exporter": "python",
   "pygments_lexer": "ipython3",
   "version": "3.9.13"
  },
  "orig_nbformat": 4,
  "vscode": {
   "interpreter": {
    "hash": "73a48dfa232abf2d5e29fd3810e1a8e15c9f796ed20be0e2c4a592ce9c8426a2"
   }
  }
 },
 "nbformat": 4,
 "nbformat_minor": 2
}
