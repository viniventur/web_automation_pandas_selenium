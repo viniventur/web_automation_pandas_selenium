{
 "cells": [
  {
   "attachments": {},
   "cell_type": "markdown",
   "metadata": {},
   "source": [
    "# Script para extração de diários do DOAL\n",
    "\n",
    "Necessita do Chrome driver na versão do navegador"
   ]
  },
  {
   "cell_type": "code",
   "execution_count": 1,
   "metadata": {},
   "outputs": [],
   "source": [
    "from selenium import webdriver\n",
    "import pyautogui\n",
    "from selenium.webdriver.common.by import By\n",
    "from selenium.webdriver.common.alert import Alert\n",
    "import time\n",
    "from getpass import getpass"
   ]
  },
  {
   "cell_type": "code",
   "execution_count": 3,
   "metadata": {},
   "outputs": [],
   "source": [
    "\n",
    "usuario = input(str(\"Digite seu usuário: \"))\n",
    "senha = getpass()\n",
    "\n",
    "driver = webdriver.Chrome()\n",
    "driver.get(\"http://www.vidafuncional.al.gov.br/gdprev/vida_funcional/busca/index\")\n",
    "time.sleep(5)\n",
    "pyautogui.typewrite(usuario)\n",
    "pyautogui.hotkey(\"tab\")\n",
    "pyautogui.typewrite(senha)\n",
    "pyautogui.hotkey(\"enter\")\n",
    "time.sleep(5)\n",
    "driver.find_element(\"xpath\", '//*[@id=\"UsuarioUsuario/usuario\"]').send_keys(\"pesquisador\")\n",
    "driver.find_element(\"xpath\", '//*[@id=\"UsuarioUsuario/senha\"]').send_keys(\"pesquisador\")\n",
    "pyautogui.hotkey(\"enter\")\n"
   ]
  }
 ],
 "metadata": {
  "kernelspec": {
   "display_name": "base",
   "language": "python",
   "name": "python3"
  },
  "language_info": {
   "codemirror_mode": {
    "name": "ipython",
    "version": 3
   },
   "file_extension": ".py",
   "mimetype": "text/x-python",
   "name": "python",
   "nbconvert_exporter": "python",
   "pygments_lexer": "ipython3",
   "version": "3.9.13"
  },
  "orig_nbformat": 4,
  "vscode": {
   "interpreter": {
    "hash": "73a48dfa232abf2d5e29fd3810e1a8e15c9f796ed20be0e2c4a592ce9c8426a2"
   }
  }
 },
 "nbformat": 4,
 "nbformat_minor": 2
}
