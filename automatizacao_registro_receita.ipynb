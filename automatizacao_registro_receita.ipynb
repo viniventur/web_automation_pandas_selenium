{
 "cells": [
  {
   "attachments": {},
   "cell_type": "markdown",
   "metadata": {},
   "source": [
    "# Script de Web Automation de inserção de dados no SIAFE"
   ]
  },
  {
   "cell_type": "code",
   "execution_count": 61,
   "metadata": {},
   "outputs": [],
   "source": [
    "from selenium import webdriver\n",
    "from selenium.webdriver.chrome.options import Options\n",
    "from selenium.webdriver.common.by import By\n",
    "import pyautogui\n",
    "import time\n",
    "from selenium.webdriver.support.ui import Select\n",
    "from getpass import getpass\n",
    "import pandas as pd"
   ]
  },
  {
   "cell_type": "code",
   "execution_count": null,
   "metadata": {},
   "outputs": [],
   "source": [
    "driver = webdriver.Chrome(executable_path=r'./chromedriver.exe')\n",
    "driver.get(\"inserir link DGN\")\n",
    "#driver.get(\"inserir link oficial\")"
   ]
  },
  {
   "cell_type": "markdown",
   "metadata": {},
   "source": [
    "## Logar no SIAFE e e ir para a pagina \"Propostas de Receita\""
   ]
  },
  {
   "cell_type": "code",
   "execution_count": 64,
   "metadata": {},
   "outputs": [],
   "source": [
    "usuario = input(str(\"Digite seu usuário: \"))\n",
    "senha = getpass()\n",
    "time.sleep(2.5)\n",
    "driver.find_element(\"xpath\", '//*[@id=\"loginBox:itxUsuario::content\"]').send_keys(usuario)\n",
    "driver.find_element(\"xpath\", '//*[@id=\"loginBox:itxSenhaAtual::content\"]').send_keys(senha)\n",
    "time.sleep(1.5)\n",
    "exer = driver.find_element(\"xpath\", '//*[@id=\"loginBox:cbxExercicio::content\"]')\n",
    "Select(exer).select_by_visible_text('2024')\n",
    "driver.find_element(\"xpath\", '//*[@id=\"loginBox:btnConfirmar\"]').click()\n",
    "time.sleep(1.5)\n",
    "driver.find_element(\"xpath\", '//*[@id=\"pt1:iTxtCad::content\"]').send_keys('Propostas de Receita')\n",
    "driver.find_element(\"xpath\", '//*[@id=\"pt1:principaisFuncionalidades\"]/div[1]').click()\n",
    "time.sleep(1)"
   ]
  },
  {
   "attachments": {},
   "cell_type": "markdown",
   "metadata": {},
   "source": [
    "### Referências XPATH"
   ]
  },
  {
   "cell_type": "code",
   "execution_count": null,
   "metadata": {},
   "outputs": [],
   "source": [
    "# referencias de inserir\n",
    "esfera = driver.find_element(\"xpath\", '//*[@id=\"pt1:pnlContent:tblItens:pnlClassificacaoItem_chc_63::content\"]')\n",
    "nat_rec = driver.find_element(\"xpath\", '//*[@id=\"pt1:pnlContent:tblItens:pnlClassificacaoItem_chc_53::content\"]')\n",
    "id_exe_fonte = driver.find_element(\"xpath\", '//*[@id=\"pt1:pnlContent:tblItens:pnlClassificacaoItem_chc_23::content\"]')\n",
    "fonte = driver.find_element(\"xpath\", '//*[@id=\"pt1:pnlContent:tblItens:pnlClassificacaoItem_chc_28::content\"]')\n",
    "tipo_detalha_fonte = driver.find_element(\"xpath\", '//*[@id=\"pt1:pnlContent:tblItens:pnlClassificacaoItem_chc_186::content\"]')\n",
    "detalha_fonte = driver.find_element(\"xpath\", '//*[@id=\"pt1:pnlContent:tblItens:pnlClassificacaoItem_chc_159::content\"]')\n",
    "regra_dedu = driver.find_element(\"xpath\", '//*[@id=\"pt1:pnlContent:tblItens:pnlClassificacaoItem_chc_211::content\"]')\n",
    "valor = driver.find_element(\"xpath\", '//*[@id=\"pt1:pnlContent:tblItens:inputText2::content\"]')"
   ]
  },
  {
   "cell_type": "markdown",
   "metadata": {},
   "source": [
    "## Importando a base"
   ]
  },
  {
   "cell_type": "code",
   "execution_count": null,
   "metadata": {},
   "outputs": [],
   "source": [
    "df = pd.read_excel('C:/Users/vinicius.ventura/Documents/chromedriver-win64/BASECERTA.xlsx')\n",
    "df"
   ]
  },
  {
   "cell_type": "markdown",
   "metadata": {},
   "source": [
    "## Looping de registro"
   ]
  },
  {
   "cell_type": "code",
   "execution_count": null,
   "metadata": {},
   "outputs": [],
   "source": [
    "# referencias de inserir\n",
    "esfera = driver.find_element(\"xpath\", '//*[@id=\"pt1:pnlContent:tblItens:pnlClassificacaoItem_chc_63::content\"]')\n",
    "nat_rec = driver.find_element(\"xpath\", '//*[@id=\"pt1:pnlContent:tblItens:pnlClassificacaoItem_chc_53::content\"]')\n",
    "id_exe_fonte = driver.find_element(\"xpath\", '//*[@id=\"pt1:pnlContent:tblItens:pnlClassificacaoItem_chc_23::content\"]')\n",
    "fonte = driver.find_element(\"xpath\", '//*[@id=\"pt1:pnlContent:tblItens:pnlClassificacaoItem_chc_28::content\"]')\n",
    "tipo_detalha_fonte = driver.find_element(\"xpath\", '//*[@id=\"pt1:pnlContent:tblItens:pnlClassificacaoItem_chc_186::content\"]')\n",
    "detalha_fonte = driver.find_element(\"xpath\", '//*[@id=\"pt1:pnlContent:tblItens:pnlClassificacaoItem_chc_159::content\"]') # nao precisa\n",
    "regra_dedu = driver.find_element(\"xpath\", '//*[@id=\"pt1:pnlContent:tblItens:pnlClassificacaoItem_chc_211::content\"]')\n",
    "valor = driver.find_element(\"xpath\", '//*[@id=\"pt1:pnlContent:tblItens:inputText2::content\"]')"
   ]
  },
  {
   "cell_type": "markdown",
   "metadata": {},
   "source": [
    "### Def para cada situação"
   ]
  },
  {
   "cell_type": "code",
   "execution_count": 218,
   "metadata": {},
   "outputs": [],
   "source": [
    "# def linha 0\n",
    "def linha0(linha, tempo_curto, tempo_longo):\n",
    "    driver.find_element(\"xpath\", '//*[@id=\"pt1:tblReceita:btnInsert\"]/a').click() # Primeiro Inserir\n",
    "    time.sleep(tempo_curto)\n",
    "    org_orc = driver.find_element(\"xpath\", '//*[@id=\"pt1:pnlContent:painelEditorClassificacaoReceita_chc_121::content\"]') # org orca\n",
    "    Select(org_orc).select_by_visible_text(df.loc[linha, 'NOME ORGAO'])\n",
    "    time.sleep(tempo_curto)\n",
    "    uo = driver.find_element(\"xpath\", '//*[@id=\"pt1:pnlContent:painelEditorClassificacaoReceita_chc_26::content\"]') # uo\n",
    "    Select(uo).select_by_visible_text('- Selecione -')\n",
    "    time.sleep(tempo_curto)\n",
    "    Select(uo).select_by_visible_text(df.loc[linha, 'NOME UO'])\n",
    "    time.sleep(tempo_curto)\n",
    "    driver.find_element(\"xpath\", '//*[@id=\"pt1:pnlContent:tblItens:btnInserirItem\"]/a').click() # inserir do inserir\n",
    "    time.sleep(tempo_curto)\n",
    "    # Inserir detalhes\n",
    "    esfera = driver.find_element(\"xpath\", '//*[@id=\"pt1:pnlContent:tblItens:pnlClassificacaoItem_chc_63::content\"]') # esfera \n",
    "    Select(esfera).select_by_visible_text(df.loc[linha, 'Código da Esfera'])\n",
    "    time.sleep(tempo_longo)\n",
    "    nat_rec = driver.find_element(\"xpath\", '//*[@id=\"pt1:pnlContent:tblItens:pnlClassificacaoItem_chc_53::content\"]') # nat rec\n",
    "    Select(nat_rec).select_by_visible_text('- Selecione -')\n",
    "    Select(nat_rec).select_by_value(str(df.loc[linha, 'NAT REC CONT']))\n",
    "    time.sleep(tempo_longo)\n",
    "    id_exe_fonte = driver.find_element(\"xpath\", '//*[@id=\"pt1:pnlContent:tblItens:pnlClassificacaoItem_chc_23::content\"]') # id_exe_fonte\n",
    "    Select(id_exe_fonte).select_by_visible_text(df.loc[linha, 'Identificador Exercício Fonte'])\n",
    "    time.sleep(tempo_longo)\n",
    "    fonte = driver.find_element(\"xpath\", '//*[@id=\"pt1:pnlContent:tblItens:pnlClassificacaoItem_chc_28::content\"]') # fonte\n",
    "    Select(fonte).select_by_visible_text(df.loc[linha, 'FONTE SIAFE'])\n",
    "    time.sleep(tempo_longo)\n",
    "    tipo_detalha_fonte = driver.find_element(\"xpath\", '//*[@id=\"pt1:pnlContent:tblItens:pnlClassificacaoItem_chc_186::content\"]') # tipo_detalha_fonte\n",
    "    Select(tipo_detalha_fonte).select_by_visible_text('0 - SEM DETALHAMENTO')\n",
    "    time.sleep(tempo_longo)\n",
    "    regra_dedu = driver.find_element(\"xpath\", '//*[@id=\"pt1:pnlContent:tblItens:pnlClassificacaoItem_chc_211::content\"]') # regra_dedu\n",
    "    Select(regra_dedu).select_by_visible_text('Nao definido')\n",
    "    time.sleep(tempo_longo)\n",
    "    driver.find_element(\"xpath\", '//*[@id=\"pt1:pnlContent:tblItens:inputText2::content\"]').send_keys(str(df.loc[linha, 'Valor']).replace('.',',')) # valor\n",
    "    driver.find_element(\"xpath\", '//*[@id=\"pt1:pnlContent:tblItens:bntConfirmAddItemReceita\"]').click() # confirmar"
   ]
  },
  {
   "cell_type": "code",
   "execution_count": 272,
   "metadata": {},
   "outputs": [],
   "source": [
    "# prox_uo_igual\n",
    "def uo_igual(linha, tempo_curto, tempo_longo):\n",
    "    driver.find_element(\"xpath\", '//*[@id=\"pt1:pnlContent:tblItens:btnInserirItem\"]/a').click() # inserir do inserir\n",
    "    time.sleep(tempo_curto)\n",
    "    # Inserir detalhes\n",
    "    esfera = driver.find_element(\"xpath\", '//*[@id=\"pt1:pnlContent:tblItens:pnlClassificacaoItem_chc_63::content\"]') # esfera \n",
    "    Select(esfera).select_by_visible_text(df.loc[linha, 'Código da Esfera'])\n",
    "    time.sleep(tempo_longo)\n",
    "    nat_rec = driver.find_element(\"xpath\", '//*[@id=\"pt1:pnlContent:tblItens:pnlClassificacaoItem_chc_53::content\"]') # nat rec\n",
    "    Select(nat_rec).select_by_visible_text('- Selecione -')\n",
    "    Select(nat_rec).select_by_value(str(df.loc[linha, 'NAT REC CONT']))\n",
    "    time.sleep(tempo_longo)\n",
    "    id_exe_fonte = driver.find_element(\"xpath\", '//*[@id=\"pt1:pnlContent:tblItens:pnlClassificacaoItem_chc_23::content\"]') # id_exe_fonte\n",
    "    Select(id_exe_fonte).select_by_visible_text(df.loc[linha, 'Identificador Exercício Fonte'])\n",
    "    time.sleep(tempo_longo)\n",
    "    fonte = driver.find_element(\"xpath\", '//*[@id=\"pt1:pnlContent:tblItens:pnlClassificacaoItem_chc_28::content\"]') # fonte\n",
    "    Select(fonte).select_by_visible_text(df.loc[linha, 'FONTE SIAFE'])\n",
    "    time.sleep(tempo_longo)\n",
    "    tipo_detalha_fonte = driver.find_element(\"xpath\", '//*[@id=\"pt1:pnlContent:tblItens:pnlClassificacaoItem_chc_186::content\"]') # tipo_detalha_fonte\n",
    "    Select(tipo_detalha_fonte).select_by_visible_text('0 - SEM DETALHAMENTO')\n",
    "    time.sleep(tempo_longo)\n",
    "    regra_dedu = driver.find_element(\"xpath\", '//*[@id=\"pt1:pnlContent:tblItens:pnlClassificacaoItem_chc_211::content\"]') # regra_dedu\n",
    "    Select(regra_dedu).select_by_visible_text('Nao definido')\n",
    "    time.sleep(tempo_longo)\n",
    "    driver.find_element(\"xpath\", '//*[@id=\"pt1:pnlContent:tblItens:inputText2::content\"]').send_keys(str(df.loc[linha, 'Valor']).replace('.',',')) # valor\n",
    "    driver.find_element(\"xpath\", '//*[@id=\"pt1:pnlContent:tblItens:bntConfirmAddItemReceita\"]').click() # confirmar\n",
    "    time.sleep(tempo_longo)"
   ]
  },
  {
   "cell_type": "code",
   "execution_count": 233,
   "metadata": {},
   "outputs": [],
   "source": [
    "# prox_uo_diferente\n",
    "def uo_diferente(linha, tempo_curto, tempo_longo):\n",
    "   time.sleep(tempo_longo)\n",
    "   driver.find_element(\"xpath\", '//*[@id=\"pt1:pnlContent:tblItens:btnGerarDeducoes\"]/a').click() # gerar deducoes\n",
    "   time.sleep(tempo_longo)\n",
    "   driver.find_element(\"xpath\", '//*[@id=\"pt1:pnlContent:btnConfirmarDec\"]').click() # confirmar final\n",
    "   time.sleep(tempo_longo)\n",
    "   driver.find_element(\"xpath\", '//*[@id=\"pt1:tblReceita:btnInsert\"]/a').click() # Primeiro Inserir\n",
    "   time.sleep(tempo_curto)\n",
    "   org_orc = driver.find_element(\"xpath\", '//*[@id=\"pt1:pnlContent:painelEditorClassificacaoReceita_chc_121::content\"]') # org orca\n",
    "   Select(org_orc).select_by_visible_text(df.loc[linha, 'NOME ORGAO'])\n",
    "   time.sleep(tempo_longo)\n",
    "   uo = driver.find_element(\"xpath\", '//*[@id=\"pt1:pnlContent:painelEditorClassificacaoReceita_chc_26::content\"]') # uo\n",
    "   Select(uo).select_by_visible_text('- Selecione -')\n",
    "   time.sleep(tempo_curto)\n",
    "   Select(uo).select_by_visible_text(df.loc[linha, 'NOME UO'])\n",
    "   time.sleep(tempo_curto)\n",
    "   driver.find_element(\"xpath\", '//*[@id=\"pt1:pnlContent:tblItens:btnInserirItem\"]/a').click() # inserir do inserir\n",
    "   time.sleep(tempo_curto)\n",
    "   # Inserir detalhes\n",
    "   esfera = driver.find_element(\"xpath\", '//*[@id=\"pt1:pnlContent:tblItens:pnlClassificacaoItem_chc_63::content\"]') # esfera \n",
    "   Select(esfera).select_by_visible_text(df.loc[linha, 'Código da Esfera'])\n",
    "   time.sleep(tempo_longo)\n",
    "   nat_rec = driver.find_element(\"xpath\", '//*[@id=\"pt1:pnlContent:tblItens:pnlClassificacaoItem_chc_53::content\"]') # nat rec\n",
    "   Select(nat_rec).select_by_visible_text('- Selecione -')\n",
    "   Select(nat_rec).select_by_value(str(df.loc[linha, 'NAT REC CONT']))\n",
    "   time.sleep(tempo_longo)\n",
    "   id_exe_fonte = driver.find_element(\"xpath\", '//*[@id=\"pt1:pnlContent:tblItens:pnlClassificacaoItem_chc_23::content\"]') # id_exe_fonte\n",
    "   Select(id_exe_fonte).select_by_visible_text(df.loc[linha, 'Identificador Exercício Fonte'])\n",
    "   time.sleep(tempo_longo)\n",
    "   fonte = driver.find_element(\"xpath\", '//*[@id=\"pt1:pnlContent:tblItens:pnlClassificacaoItem_chc_28::content\"]') # fonte\n",
    "   Select(fonte).select_by_visible_text(df.loc[linha, 'FONTE SIAFE'])\n",
    "   time.sleep(tempo_longo)\n",
    "   tipo_detalha_fonte = driver.find_element(\"xpath\", '//*[@id=\"pt1:pnlContent:tblItens:pnlClassificacaoItem_chc_186::content\"]') # tipo_detalha_fonte\n",
    "   Select(tipo_detalha_fonte).select_by_visible_text('0 - SEM DETALHAMENTO')\n",
    "   time.sleep(tempo_longo)\n",
    "   regra_dedu = driver.find_element(\"xpath\", '//*[@id=\"pt1:pnlContent:tblItens:pnlClassificacaoItem_chc_211::content\"]') # regra_dedu\n",
    "   Select(regra_dedu).select_by_visible_text('Nao definido')\n",
    "   time.sleep(tempo_longo)\n",
    "   driver.find_element(\"xpath\", '//*[@id=\"pt1:pnlContent:tblItens:inputText2::content\"]').send_keys(str(df.loc[linha, 'Valor']).replace('.',',')) # valor\n",
    "   driver.find_element(\"xpath\", '//*[@id=\"pt1:pnlContent:tblItens:bntConfirmAddItemReceita\"]').click() # confirmar\n",
    "   time.sleep(tempo_longo)"
   ]
  },
  {
   "cell_type": "markdown",
   "metadata": {},
   "source": [
    "### Looping final"
   ]
  },
  {
   "cell_type": "code",
   "execution_count": null,
   "metadata": {},
   "outputs": [],
   "source": [
    "for linha, orgao in enumerate(df['NOME ORGAO']):\n",
    "    if linha == 0:\n",
    "        linha0(linha, 0.5, 1)\n",
    "        uo = driver.find_element(\"xpath\", '//*[@id=\"pt1:pnlContent:painelEditorClassificacaoReceita_chc_26::content\"]') # uo\n",
    "    elif str(df.loc[linha, 'NOME UO']) == str(df.loc[linha-1, 'NOME UO']):\n",
    "        uo_igual(linha, 0.5, 1)\n",
    "        uo = driver.find_element(\"xpath\", '//*[@id=\"pt1:pnlContent:painelEditorClassificacaoReceita_chc_26::content\"]') # uo\n",
    "    elif str(df.loc[linha, 'NOME UO']) != str(df.loc[linha-1, 'NOME UO']):\n",
    "        uo = driver.find_element(\"xpath\", '//*[@id=\"pt1:pnlContent:painelEditorClassificacaoReceita_chc_26::content\"]') # uo\n",
    "        uo_diferente(linha, 0.5, 1)"
   ]
  },
  {
   "cell_type": "markdown",
   "metadata": {},
   "source": [
    "Comentários: Falta ajustar para quando ele muda de UO no mesmo órgão (não deduzir e continua...) "
   ]
  }
 ],
 "metadata": {
  "kernelspec": {
   "display_name": "base",
   "language": "python",
   "name": "python3"
  },
  "language_info": {
   "codemirror_mode": {
    "name": "ipython",
    "version": 3
   },
   "file_extension": ".py",
   "mimetype": "text/x-python",
   "name": "python",
   "nbconvert_exporter": "python",
   "pygments_lexer": "ipython3",
   "version": "3.9.13"
  },
  "orig_nbformat": 4,
  "vscode": {
   "interpreter": {
    "hash": "73a48dfa232abf2d5e29fd3810e1a8e15c9f796ed20be0e2c4a592ce9c8426a2"
   }
  }
 },
 "nbformat": 4,
 "nbformat_minor": 2
}
